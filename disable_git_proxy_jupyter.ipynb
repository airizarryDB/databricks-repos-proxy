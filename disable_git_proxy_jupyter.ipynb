{
 "cells": [
  {
   "cell_type": "markdown",
   "metadata": {
    "application/vnd.databricks.v1+cell": {
     "cellMetadata": {},
     "inputWidgets": {},
     "nuid": "422fe1be-2699-41b8-8b27-87a1ccfa1220",
     "showTitle": false,
     "title": ""
    }
   },
   "source": [
    "## Disable the feature\n",
    "**Note you must be an admin to update the feature flag**\n",
    "\n",
    "Running the cell below sets the feature flag to false. You should also terminate the Git proxy cluster manually by going to the \"Compute\" page."
   ]
  },
  {
   "cell_type": "code",
   "execution_count": 0,
   "metadata": {
    "application/vnd.databricks.v1+cell": {
     "cellMetadata": {},
     "inputWidgets": {},
     "nuid": "4e849355-fa18-42b8-8f1e-36083f81651d",
     "showTitle": false,
     "title": ""
    }
   },
   "outputs": [],
   "source": [
    "%pip install databricks-sdk --upgrade\n",
    "dbutils.library.restartPython()\n",
    "\n",
    "from databricks.sdk.core import ApiClient\n",
    "\n",
    "client = ApiClient()"
   ]
  },
  {
   "cell_type": "code",
   "execution_count": 0,
   "metadata": {
    "application/vnd.databricks.v1+cell": {
     "cellMetadata": {},
     "inputWidgets": {},
     "nuid": "c8edb629-e6db-47c8-9f9b-b9b2532023e1",
     "showTitle": false,
     "title": ""
    }
   },
   "outputs": [],
   "source": [
    "resp = client.do(\"PATCH\", \"/api/2.0/workspace-conf\", body={\"enableGitProxy\": \"false\"}, headers={\"Content-Type\": \"application/json\"})\n",
    "print(f\"enableGitProxy: false PATCH: {resp} {resp.text}\")\n",
    "client.do(\"PATCH\", \"/api/2.0/workspace-conf\", body={\"gitProxyClusterId\": \"\"}, headers={\"Content-Type\": \"application/json\"})\n",
    "print(f\"gitProxyClusterId: PATCH: {resp} {resp.text}\")\n",
    "\n",
    "get_flag_response = client.do(\"GET\", \"/api/2.0/workspace-conf\", {\"keys\": \"enableGitProxy\"})\n",
    "print(\n",
    "    f\"This value of enableGitProxy should be false -- Get enableGitProxy response: {get_flag_response}, {get_flag_response.text}\"\n",
    ")"
   ]
  }
 ],
 "metadata": {
  "application/vnd.databricks.v1+notebook": {
   "dashboards": [],
   "language": "python",
   "notebookMetadata": {
    "pythonIndentUnit": 4
   },
   "notebookName": "disable_git_proxy_jupyter",
   "widgets": {}
  }
 },
 "nbformat": 4,
 "nbformat_minor": 0
}
