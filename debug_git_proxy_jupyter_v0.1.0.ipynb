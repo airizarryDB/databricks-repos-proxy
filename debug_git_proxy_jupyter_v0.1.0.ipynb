{
 "cells": [
  {
   "cell_type": "markdown",
   "metadata": {
    "application/vnd.databricks.v1+cell": {
     "cellMetadata": {},
     "inputWidgets": {},
     "nuid": "a00a88a3-9d18-443e-b250-eb40f837fbcd",
     "showTitle": false,
     "title": ""
    }
   },
   "source": [
    "## Diagnostic Notebook for `enable_git_proxy_jupyter_v0.1.0.ipynb`"
   ]
  },
  {
   "cell_type": "markdown",
   "metadata": {
    "application/vnd.databricks.v1+cell": {
     "cellMetadata": {},
     "inputWidgets": {},
     "nuid": "3d71e841-c21e-4b9c-b471-d8b5909d6b1b",
     "showTitle": false,
     "title": ""
    }
   },
   "source": [
    "### 1. Checking the Running Logs"
   ]
  },
  {
   "cell_type": "code",
   "execution_count": null,
   "metadata": {
    "application/vnd.databricks.v1+cell": {
     "cellMetadata": {
      "byteLimit": 2048000,
      "rowLimit": 10000
     },
     "inputWidgets": {},
     "nuid": "7c2aeb60-7b4b-4f25-9d3b-6034c47cb53f",
     "showTitle": false,
     "title": ""
    }
   },
   "outputs": [],
   "source": [
    "!cat /databricks/git-proxy/git-proxy.log"
   ]
  },
  {
   "cell_type": "markdown",
   "metadata": {
    "application/vnd.databricks.v1+cell": {
     "cellMetadata": {},
     "inputWidgets": {},
     "nuid": "c2bfb76b-2017-4a07-a40c-99afb6773777",
     "showTitle": false,
     "title": ""
    }
   },
   "source": [
    "### 2. Internet Connection Test"
   ]
  },
  {
   "cell_type": "code",
   "execution_count": null,
   "metadata": {
    "application/vnd.databricks.v1+cell": {
     "cellMetadata": {
      "byteLimit": 2048000,
      "rowLimit": 10000
     },
     "inputWidgets": {},
     "nuid": "24af589a-0883-4071-b860-0548a2e1c488",
     "showTitle": false,
     "title": ""
    }
   },
   "outputs": [],
   "source": [
    "\n",
    "import requests\n",
    "\n",
    "def can_access_internet():\n",
    "    try:\n",
    "        response = requests.get(\"https://www.google.com\")\n",
    "        response.raise_for_status()\n",
    "        print(\"Internet access confirmed.\")\n",
    "    except:\n",
    "        print(\"Cannot access the internet. Check your connection.\")\n",
    "\n",
    "can_access_internet()\n"
   ]
  },
  {
   "cell_type": "markdown",
   "metadata": {
    "application/vnd.databricks.v1+cell": {
     "cellMetadata": {},
     "inputWidgets": {},
     "nuid": "6f468ee9-fa4f-4a90-bc7d-c7a765d3b018",
     "showTitle": false,
     "title": ""
    }
   },
   "source": [
    "### 3. Check SSL Certificate Configuration"
   ]
  },
  {
   "cell_type": "code",
   "execution_count": null,
   "metadata": {
    "application/vnd.databricks.v1+cell": {
     "cellMetadata": {
      "byteLimit": 2048000,
      "rowLimit": 10000
     },
     "inputWidgets": {},
     "nuid": "ea32cc88-4442-40c7-82f1-a26b946998ff",
     "showTitle": false,
     "title": ""
    }
   },
   "outputs": [],
   "source": [
    "\n",
    "import os\n",
    "\n",
    "certificate_path = os.environ.get('GIT_PROXY_CA_CERT_PATH')\n",
    "if certificate_path:\n",
    "    print(f\"Certificate path is set to: {certificate_path}\")\n",
    "    if os.path.exists(certificate_path):\n",
    "        print(\"Certificate file exists.\")\n",
    "    else:\n",
    "        print(\"Certificate file doesn't exist. Please check the path.\")\n",
    "else:\n",
    "    print(\"GIT_PROXY_CA_CERT_PATH is not set.\")\n"
   ]
  },
  {
   "cell_type": "markdown",
   "metadata": {
    "application/vnd.databricks.v1+cell": {
     "cellMetadata": {},
     "inputWidgets": {},
     "nuid": "7eb76115-b9f2-4f4e-80d8-041e96caffbb",
     "showTitle": false,
     "title": ""
    }
   },
   "source": [
    "### 4. Test Connectivity to Internal Git Server"
   ]
  },
  {
   "cell_type": "code",
   "execution_count": null,
   "metadata": {
    "application/vnd.databricks.v1+cell": {
     "cellMetadata": {
      "byteLimit": 2048000,
      "rowLimit": 10000
     },
     "inputWidgets": {},
     "nuid": "a1fadcd1-f06b-4be1-92da-28eac70df479",
     "showTitle": false,
     "title": ""
    }
   },
   "outputs": [],
   "source": [
    "\n",
    "internal_git_server = input(\"GIT_PROXY_TEST_URL:\")\n",
    "if internal_git_server:\n",
    "    try:\n",
    "        response = requests.get(internal_git_server)\n",
    "        response.raise_for_status()\n",
    "        print(f\"Successfully connected to the internal Git server at {internal_git_server}.\")\n",
    "    except requests.RequestException as e:\n",
    "        print(f\"Failed to connect to the internal Git server at {internal_git_server}. Reason: {e}\")\n",
    "else:\n",
    "    print(\"Internal Git server URL (GIT_PROXY_TEST_URL) is not set.\")\n"
   ]
  },
  {
   "cell_type": "markdown",
   "metadata": {
    "application/vnd.databricks.v1+cell": {
     "cellMetadata": {},
     "inputWidgets": {},
     "nuid": "1c04ba2e-06b4-4bba-b12c-931b03d2f4e5",
     "showTitle": false,
     "title": ""
    }
   },
   "source": [
    "### 5. Check SSL Verification Configuration"
   ]
  },
  {
   "cell_type": "code",
   "execution_count": null,
   "metadata": {
    "application/vnd.databricks.v1+cell": {
     "cellMetadata": {
      "byteLimit": 2048000,
      "rowLimit": 10000
     },
     "inputWidgets": {},
     "nuid": "e978fcc7-bd7b-4867-b5cd-7dd32d206ccf",
     "showTitle": false,
     "title": ""
    }
   },
   "outputs": [],
   "source": [
    "\n",
    "enable_ssl_verification = os.environ.get(\"GIT_PROXY_ENABLE_SSL_VERIFICATION\", \"True\") == \"True\"\n",
    "if enable_ssl_verification:\n",
    "    print(\"SSL verification is enabled.\")\n",
    "else:\n",
    "    print(\"SSL verification is disabled. If facing issues, consider enabling it.\")\n"
   ]
  },
  {
   "cell_type": "markdown",
   "metadata": {
    "application/vnd.databricks.v1+cell": {
     "cellMetadata": {
      "byteLimit": 2048000,
      "rowLimit": 10000
     },
     "inputWidgets": {},
     "nuid": "701a0778-2fd3-46aa-8bf5-53f916a11b83",
     "showTitle": false,
     "title": ""
    }
   },
   "source": [
    "##6. Check custom SSL configuration"
   ]
  },
  {
   "cell_type": "code",
   "execution_count": null,
   "metadata": {
    "application/vnd.databricks.v1+cell": {
     "cellMetadata": {
      "byteLimit": 2048000,
      "rowLimit": 10000
     },
     "inputWidgets": {},
     "nuid": "d8b0f17a-bd51-42bb-aba4-0f742f5e30c4",
     "showTitle": false,
     "title": ""
    }
   },
   "outputs": [],
   "source": [
    "import os\n",
    "import requests\n",
    "import certifi\n",
    "\n",
    "def print_and_exit(message):\n",
    "    \"\"\"Print a message and exit.\"\"\"\n",
    "    print(message)\n",
    "    exit(0)\n",
    "\n",
    "def can_access_internet():\n",
    "    \"\"\"Check if we can access the internet.\"\"\"\n",
    "    try:\n",
    "        requests.get(\"https://www.google.com\")\n",
    "        return True\n",
    "    except:\n",
    "        return False\n",
    "\n",
    "def test_connection(url, cert_path=None):\n",
    "    \"\"\"Test if we can connect to a URL, optionally using a certificate.\"\"\"\n",
    "    try:\n",
    "        requests.get(url, verify=cert_path if cert_path else True)\n",
    "        return True\n",
    "    except requests.RequestException:\n",
    "        return False\n",
    "\n",
    "# Check internet access\n",
    "if not can_access_internet():\n",
    "    print_and_exit(\"[ERROR] Can't access the internet. Check your connection.\")\n",
    "\n",
    "# Fetch environment settings\n",
    "certificate_path = os.environ.get('GIT_PROXY_CA_CERT_PATH')\n",
    "enable_ssl_verification = os.environ.get(\"GIT_PROXY_ENABLE_SSL_VERIFICATION\", \"True\") == \"True\"\n",
    "internal_test_url = os.environ.get(\"GIT_PROXY_TEST_URL\")\n",
    "\n",
    "# If SSL verification is disabled, we're done\n",
    "if not enable_ssl_verification:\n",
    "    print_and_exit(\"[NOTE] SSL verification is disabled. If facing issues, consider enabling it.\")\n",
    "\n",
    "# Ensure a certificate path is provided\n",
    "if not certificate_path:\n",
    "    print_and_exit(\"[ERROR] GIT_PROXY_CA_CERT_PATH not set. Please set it.\")\n",
    "else:\n",
    "    # Display the certificate for reference\n",
    "    with open(certificate_path, 'r') as file:\n",
    "        print(\"\\n--- CERTIFICATE CONTENT ---\")\n",
    "        print(file.read())\n",
    "        print(\"---------------------------\\n\")\n",
    "\n",
    "    # Test connectivity to a known URL using the provided certificate\n",
    "    github_url = \"https://github.com/databricks/databricks-repos-proxy.git\"\n",
    "    if test_connection(github_url, certificate_path):\n",
    "        print(f\"[SUCCESS] Connected to {github_url} using the provided certificate.\")\n",
    "    else:\n",
    "        # Combine system certificates with provided certificate\n",
    "        combined_cert_path = \"/tmp/combined_cert.pem\"\n",
    "        with open(combined_cert_path, 'w') as combined_file:\n",
    "            with open(certifi.where(), 'r') as system_certs:\n",
    "                combined_file.write(system_certs.read())\n",
    "            with open(certificate_path, 'r') as custom_cert:\n",
    "                combined_file.write(custom_cert.read())\n",
    "\n",
    "        if test_connection(github_url, combined_cert_path):\n",
    "            print(f\"[SUCCESS] Connected to {github_url} using combined system and custom certificates.\")\n",
    "        else:\n",
    "            print(f\"[ERROR] Failed to connect to {github_url} even with combined certificates. Check certificate validity.\")\n",
    "\n",
    "    # If an internal test URL is provided, test it as well\n",
    "    if internal_test_url:\n",
    "        if test_connection(internal_test_url, certificate_path):\n",
    "            print(f\"[SUCCESS] Connected to internal URL {internal_test_url} using the provided certificate.\")\n",
    "        else:\n",
    "            if test_connection(internal_test_url, combined_cert_path):\n",
    "                print(f\"[SUCCESS] Connected to internal URL {internal_test_url} using COMBINED certificates.\")\n",
    "            else:\n",
    "                print(f\"[ERROR] Failed to connect to the internal URL {internal_test_url} even with combined certificates.\")"
   ]
  },
  {
   "cell_type": "code",
   "execution_count": null,
   "metadata": {
    "application/vnd.databricks.v1+cell": {
     "cellMetadata": {},
     "inputWidgets": {},
     "nuid": "a6996801-988e-4df8-89e2-fffdcebc0364",
     "showTitle": false,
     "title": ""
    }
   },
   "outputs": [],
   "source": []
  }
 ],
 "metadata": {
  "application/vnd.databricks.v1+notebook": {
   "dashboards": [],
   "language": "python",
   "notebookMetadata": {
    "pythonIndentUnit": 4
   },
   "notebookName": "diagnostic_notebook",
   "widgets": {}
  },
  "language_info": {
   "name": "python"
  }
 },
 "nbformat": 4,
 "nbformat_minor": 0
}
